{
 "cells": [
  {
   "cell_type": "code",
   "execution_count": 63,
   "metadata": {},
   "outputs": [],
   "source": [
    "import json\n",
    "import pandas as pd\n",
    "from openai import OpenAI\n",
    "from dotenv import dotenv_values\n",
    "from pycaret.clustering import predict_model, load_model\n",
    "import ollama\n"
   ]
  },
  {
   "cell_type": "code",
   "execution_count": 64,
   "metadata": {},
   "outputs": [],
   "source": [
    "env = dotenv_values(\".env\")\n",
    "\n",
    "openai_client = OpenAI(api_key=env[\"OPENAI_API_KEY\"])"
   ]
  },
  {
   "cell_type": "markdown",
   "metadata": {},
   "source": [
    "ładujemy nasze dane"
   ]
  },
  {
   "cell_type": "code",
   "execution_count": 65,
   "metadata": {},
   "outputs": [
    {
     "data": {
      "text/html": [
       "<div>\n",
       "<style scoped>\n",
       "    .dataframe tbody tr th:only-of-type {\n",
       "        vertical-align: middle;\n",
       "    }\n",
       "\n",
       "    .dataframe tbody tr th {\n",
       "        vertical-align: top;\n",
       "    }\n",
       "\n",
       "    .dataframe thead th {\n",
       "        text-align: right;\n",
       "    }\n",
       "</style>\n",
       "<table border=\"1\" class=\"dataframe\">\n",
       "  <thead>\n",
       "    <tr style=\"text-align: right;\">\n",
       "      <th></th>\n",
       "      <th>age</th>\n",
       "      <th>edu_level</th>\n",
       "      <th>fav_animals</th>\n",
       "      <th>fav_place</th>\n",
       "      <th>gender</th>\n",
       "    </tr>\n",
       "  </thead>\n",
       "  <tbody>\n",
       "    <tr>\n",
       "      <th>0</th>\n",
       "      <td>&lt;18</td>\n",
       "      <td>Podstawowe</td>\n",
       "      <td>Brak ulubionych</td>\n",
       "      <td>NaN</td>\n",
       "      <td>Kobieta</td>\n",
       "    </tr>\n",
       "    <tr>\n",
       "      <th>1</th>\n",
       "      <td>25-34</td>\n",
       "      <td>Średnie</td>\n",
       "      <td>Psy</td>\n",
       "      <td>Nad wodą</td>\n",
       "      <td>Mężczyzna</td>\n",
       "    </tr>\n",
       "    <tr>\n",
       "      <th>2</th>\n",
       "      <td>45-54</td>\n",
       "      <td>Wyższe</td>\n",
       "      <td>Psy</td>\n",
       "      <td>W lesie</td>\n",
       "      <td>Mężczyzna</td>\n",
       "    </tr>\n",
       "    <tr>\n",
       "      <th>3</th>\n",
       "      <td>35-44</td>\n",
       "      <td>Średnie</td>\n",
       "      <td>Koty</td>\n",
       "      <td>W górach</td>\n",
       "      <td>Mężczyzna</td>\n",
       "    </tr>\n",
       "    <tr>\n",
       "      <th>4</th>\n",
       "      <td>35-44</td>\n",
       "      <td>Wyższe</td>\n",
       "      <td>Psy</td>\n",
       "      <td>Nad wodą</td>\n",
       "      <td>Mężczyzna</td>\n",
       "    </tr>\n",
       "  </tbody>\n",
       "</table>\n",
       "</div>"
      ],
      "text/plain": [
       "     age   edu_level      fav_animals fav_place     gender\n",
       "0    <18  Podstawowe  Brak ulubionych       NaN    Kobieta\n",
       "1  25-34     Średnie              Psy  Nad wodą  Mężczyzna\n",
       "2  45-54      Wyższe              Psy   W lesie  Mężczyzna\n",
       "3  35-44     Średnie             Koty  W górach  Mężczyzna\n",
       "4  35-44      Wyższe              Psy  Nad wodą  Mężczyzna"
      ]
     },
     "execution_count": 65,
     "metadata": {},
     "output_type": "execute_result"
    }
   ],
   "source": [
    "df = pd.read_csv('welcome_survey_simple_v2.csv', sep=';')\n",
    "df.head()"
   ]
  },
  {
   "cell_type": "markdown",
   "metadata": {},
   "source": [
    "ładujemy model wytrenowany w poprzedniej lekcji"
   ]
  },
  {
   "cell_type": "code",
   "execution_count": 66,
   "metadata": {},
   "outputs": [
    {
     "name": "stdout",
     "output_type": "stream",
     "text": [
      "Transformation Pipeline and Model Successfully Loaded\n"
     ]
    }
   ],
   "source": [
    "kmeans_pipeline = load_model('welcome_survey_clustering_pipeline_v2')"
   ]
  },
  {
   "cell_type": "markdown",
   "metadata": {},
   "source": [
    "aplikujemy model do danych"
   ]
  },
  {
   "cell_type": "code",
   "execution_count": 91,
   "metadata": {},
   "outputs": [
    {
     "data": {
      "text/plain": [
       "Cluster 1    52\n",
       "Cluster 0    44\n",
       "Cluster 3    29\n",
       "Cluster 2    27\n",
       "Cluster 6    26\n",
       "Cluster 7    20\n",
       "Cluster 4    18\n",
       "Cluster 5    13\n",
       "Name: Cluster, dtype: int64"
      ]
     },
     "execution_count": 91,
     "metadata": {},
     "output_type": "execute_result"
    }
   ],
   "source": [
    "df_with_clusters = predict_model(model=kmeans_pipeline, data=df)\n",
    "df_with_clusters[\"Cluster\"].value_counts()"
   ]
  },
  {
   "cell_type": "markdown",
   "metadata": {},
   "source": [
    "stworzymy teraz prompt, który prześlemy do LLM-a w celu znalezienia odpowiednich nazw i opisów dla klastrów"
   ]
  },
  {
   "cell_type": "code",
   "execution_count": 94,
   "metadata": {},
   "outputs": [],
   "source": [
    "cluster_descriptions = {}\n",
    "for cluster_id in df_with_clusters['Cluster'].unique():\n",
    "    cluster_df = df_with_clusters[df_with_clusters['Cluster'] == cluster_id]\n",
    "    summary = \"\"\n",
    "    for column in df_with_clusters:\n",
    "        if column == 'Cluster':\n",
    "            continue\n",
    "\n",
    "        value_counts = cluster_df[column].value_counts()\n",
    "        value_counts_str = ', '.join([f\"{idx}: {cnt}\" for idx, cnt in value_counts.items()])\n",
    "        summary += f\"{column} - {value_counts_str}\\n\"\n",
    "\n",
    "    cluster_descriptions[cluster_id] = summary"
   ]
  },
  {
   "cell_type": "code",
   "execution_count": 95,
   "metadata": {},
   "outputs": [
    {
     "name": "stdout",
     "output_type": "stream",
     "text": [
      "age - 55-64: 12, 18-24: 1, 25-34: 0, 35-44: 0, 45-54: 0, <18: 0, >=65: 0, unknown: 0\n",
      "edu_level - Wyższe: 13, Podstawowe: 0, Średnie: 0\n",
      "fav_animals - Psy: 7, Inne: 4, Koty: 1, Koty i Psy: 1, Brak ulubionych: 0\n",
      "fav_place - Nad wodą: 6, W lesie: 2, Inne: 0, W górach: 0\n",
      "gender - Mężczyzna: 13, Kobieta: 0\n",
      "\n"
     ]
    }
   ],
   "source": [
    "print(cluster_descriptions[\"Cluster 5\"])"
   ]
  },
  {
   "cell_type": "code",
   "execution_count": 81,
   "metadata": {},
   "outputs": [
    {
     "name": "stdout",
     "output_type": "stream",
     "text": [
      "Użyliśmy algorytmu klastrowania.\n",
      "\n",
      "Klaster Cluster 2:\n",
      "age - 25-34: 8, 35-44: 8, 45-54: 6, 18-24: 3, <18: 1, >=65: 1, 55-64: 0, unknown: 0\n",
      "edu_level - Średnie: 23, Wyższe: 3, Podstawowe: 1\n",
      "fav_animals - Psy: 13, Koty: 11, Brak ulubionych: 2, Inne: 1, Koty i Psy: 0\n",
      "fav_place - Nad wodą: 13, W lesie: 6, Inne: 1, W górach: 0\n",
      "gender - Mężczyzna: 21, Kobieta: 6\n",
      "\n",
      "\n",
      "Klaster Cluster 0:\n",
      "age - 45-54: 21, 25-34: 12, 35-44: 10, 55-64: 1, 18-24: 0, <18: 0, >=65: 0, unknown: 0\n",
      "edu_level - Wyższe: 44, Podstawowe: 0, Średnie: 0\n",
      "fav_animals - Psy: 44, Brak ulubionych: 0, Inne: 0, Koty: 0, Koty i Psy: 0\n",
      "fav_place - W górach: 27, W lesie: 15, Inne: 2, Nad wodą: 0\n",
      "gender - Mężczyzna: 31, Kobieta: 12\n",
      "\n",
      "\n",
      "Klaster Cluster 7:\n",
      "age - 45-54: 6, 18-24: 5, 25-34: 5, 35-44: 4, 55-64: 0, <18: 0, >=65: 0, unknown: 0\n",
      "edu_level - Średnie: 20, Podstawowe: 0, Wyższe: 0\n",
      "fav_animals - Psy: 7, Inne: 6, Koty: 4, Brak ulubionych: 3, Koty i Psy: 0\n",
      "fav_place - W górach: 18, Inne: 2, Nad wodą: 0, W lesie: 0\n",
      "gender - Mężczyzna: 18, Kobieta: 2\n",
      "\n",
      "\n",
      "Klaster Cluster 1:\n",
      "age - 35-44: 42, 25-34: 5, >=65: 3, unknown: 2, 18-24: 0, 45-54: 0, 55-64: 0, <18: 0\n",
      "edu_level - Wyższe: 52, Podstawowe: 0, Średnie: 0\n",
      "fav_animals - Psy: 37, Brak ulubionych: 7, Inne: 5, Koty: 3, Koty i Psy: 0\n",
      "fav_place - Nad wodą: 35, W lesie: 6, Inne: 1, W górach: 0\n",
      "gender - Mężczyzna: 37, Kobieta: 14\n",
      "\n",
      "\n",
      "Klaster Cluster 3:\n",
      "age - 35-44: 16, 25-34: 5, 45-54: 5, >=65: 2, 18-24: 1, 55-64: 0, <18: 0, unknown: 0\n",
      "edu_level - Wyższe: 29, Podstawowe: 0, Średnie: 0\n",
      "fav_animals - Koty: 13, Brak ulubionych: 8, Inne: 6, Koty i Psy: 2, Psy: 0\n",
      "fav_place - W górach: 28, Inne: 1, Nad wodą: 0, W lesie: 0\n",
      "gender - Mężczyzna: 22, Kobieta: 7\n",
      "\n",
      "\n",
      "Klaster Cluster 6:\n",
      "age - 45-54: 26, 18-24: 0, 25-34: 0, 35-44: 0, 55-64: 0, <18: 0, >=65: 0, unknown: 0\n",
      "edu_level - Wyższe: 26, Podstawowe: 0, Średnie: 0\n",
      "fav_animals - Psy: 15, Koty: 4, Inne: 3, Koty i Psy: 3, Brak ulubionych: 1\n",
      "fav_place - Nad wodą: 19, Inne: 0, W górach: 0, W lesie: 0\n",
      "gender - Mężczyzna: 16, Kobieta: 10\n",
      "\n",
      "\n",
      "Klaster Cluster 4:\n",
      "age - 45-54: 10, 35-44: 3, 25-34: 2, 55-64: 2, >=65: 1, 18-24: 0, <18: 0, unknown: 0\n",
      "edu_level - Wyższe: 17, Średnie: 1, Podstawowe: 0\n",
      "fav_animals - Inne: 8, Brak ulubionych: 5, Koty: 5, Koty i Psy: 0, Psy: 0\n",
      "fav_place - W lesie: 16, Inne: 2, Nad wodą: 0, W górach: 0\n",
      "gender - Mężczyzna: 13, Kobieta: 5\n",
      "\n",
      "\n",
      "Klaster Cluster 5:\n",
      "age - 55-64: 12, 18-24: 1, 25-34: 0, 35-44: 0, 45-54: 0, <18: 0, >=65: 0, unknown: 0\n",
      "edu_level - Wyższe: 13, Podstawowe: 0, Średnie: 0\n",
      "fav_animals - Psy: 7, Inne: 4, Koty: 1, Koty i Psy: 1, Brak ulubionych: 0\n",
      "fav_place - Nad wodą: 6, W lesie: 2, Inne: 0, W górach: 0\n",
      "gender - Mężczyzna: 13, Kobieta: 0\n",
      "\n",
      "Wygeneruj najlepsze nazwy dla każdego z klasterów oraz ich opisy\n",
      "\n",
      "Użyj formatu JSON. Przykładowo:\n",
      "{\n",
      "    \"Cluster 0\": {\n",
      "        \"name\": \"Klaster 0\",\n",
      "        \"description\": \"W tym klastrze znajdują się osoby, które...\"\n",
      "    },\n",
      "    \"Cluster 1\": {\n",
      "        \"name\": \"Klaster 1\",\n",
      "        \"description\": \"W tym klastrze znajdują się osoby, które...\"\n",
      "    }\n",
      "}\n",
      "\n"
     ]
    }
   ],
   "source": [
    "prompt = \"Użyliśmy algorytmu klastrowania.\"\n",
    "for cluster_id, description in cluster_descriptions.items():\n",
    "    prompt += f\"\\n\\nKlaster {cluster_id}:\\n{description}\"\n",
    "\n",
    "prompt += \"\"\"\n",
    "Wygeneruj najlepsze nazwy dla każdego z klasterów oraz ich opisy\n",
    "\n",
    "Użyj formatu JSON. Przykładowo:\n",
    "{\n",
    "    \"Cluster 0\": {\n",
    "        \"name\": \"Klaster 0\",\n",
    "        \"description\": \"W tym klastrze znajdują się osoby, które...\"\n",
    "    },\n",
    "    \"Cluster 1\": {\n",
    "        \"name\": \"Klaster 1\",\n",
    "        \"description\": \"W tym klastrze znajdują się osoby, które...\"\n",
    "    }\n",
    "}\n",
    "\"\"\"\n",
    "print(prompt)"
   ]
  },
  {
   "cell_type": "code",
   "execution_count": 86,
   "metadata": {},
   "outputs": [],
   "source": [
    "# Initialize Ollama\n",
    "ollama_host = \"localhost\"\n",
    "ollama_port = 11434  \n",
    "ollama_client = ollama.Client(host=f\"{ollama_host}:{ollama_port}\")\n",
    "\n",
    "models = ollama_client.list()\n",
    "model = models[\"models\"][1][\"name\"]\n",
    "\n",
    "sys_msg = \"Jesteś asystentem, który pomaga w analizie danych. Zawsze dopowiadasz w formacie JSON, bez dodatkowych komentarzy.\"\n",
    "options = {\"temperature\": 0.1}"
   ]
  },
  {
   "cell_type": "code",
   "execution_count": 87,
   "metadata": {},
   "outputs": [
    {
     "name": "stdout",
     "output_type": "stream",
     "text": [
      "{\n",
      "    \"Cluster 2\": {\n",
      "        \"name\": \"Młodzi miłośnicy zwierząt\",\n",
      "        \"description\": \"W tym klastrze znajdują się głównie młode osoby (25-34 lat), które preferują psy i koty jako ulubione zwierzęta. Większość z nich to mężczyźni.\"\n",
      "    },\n",
      "    \"Cluster 0\": {\n",
      "        \"name\": \"Miłośnicy gór\",\n",
      "        \"description\": \"W tym klastrze znajdują się osoby, które preferują psy jako ulubione zwierzęta i lubią spędzać czas w górach. Większość z nich to wykształceni mężczyźni.\"\n",
      "    },\n",
      "    \"Cluster 6\": {\n",
      "        \"name\": \"Miłośnicy nadmorskich krajobrazów\",\n",
      "        \"description\": \"W tym klastrze znajdują się głównie wykształceni mężczyźni w wieku 45-54 lat, którzy preferują psy i lubią spędzać czas nad wodą.\"\n",
      "    },\n",
      "    \"Cluster 4\": {\n",
      "        \"name\": \"Miłośnicy lasów\",\n",
      "        \"description\": \"W tym klastrze znajdują się głównie wykształceni mężczyźni w wieku 45-54 lat, którzy preferują inne zwierzęta i lubią spędzać czas w lesie.\"\n",
      "    },\n",
      "    \"Cluster 5\": {\n",
      "        \"name\": \"Miłośnicy nadmorskich krajobrazów (starsi)\",\n",
      "        \"description\": \"W tym klastrze znajdują się głównie starsze osoby (55-64 lat), które preferują psy i lubią spędzać czas nad wodą. Większość z nich to mężczyźni.\"\n",
      "    },\n",
      "    \"Cluster 3\": {\n",
      "        \"name\": \"Miłośnicy gór (koty)\",\n",
      "        \"description\": \"W tym klastrze znajdują się głównie wykształceni mężczyźni, którzy preferują koty i lubią spędzać czas w górach.\"\n",
      "    },\n",
      "    \"Cluster 1\": {\n",
      "        \"name\": \"Miłośnicy lasów (inne zwierzęta)\",\n",
      "        \"description\": \"W tym klastrze znajdują się głównie wykształceni mężczyźni w wieku 45-54 lat, którzy preferują inne zwierzęta i lubią spędzać czas w lesie.\"\n",
      "    }\n",
      "}\n"
     ]
    }
   ],
   "source": [
    "ollama_response = ollama_client.generate(model=model, options = options,\n",
    "                              system=sys_msg,prompt=prompt,\n",
    "                            #   suffix=suffix,\n",
    "                              )[\"response\"]\n",
    "                                \n",
    "print(ollama_response)"
   ]
  },
  {
   "cell_type": "code",
   "execution_count": 80,
   "metadata": {},
   "outputs": [],
   "source": [
    "cluster_names_and_descriptions = json.loads(ollama_response)\n",
    "with open(\"welcome_survey_cluster_names_and_descriptions_v2o.json\", \"w\") as f:\n",
    "    f.write(json.dumps(cluster_names_and_descriptions))"
   ]
  },
  {
   "cell_type": "code",
   "execution_count": 74,
   "metadata": {},
   "outputs": [],
   "source": [
    "response = openai_client.chat.completions.create(\n",
    "    model=\"gpt-4o\",\n",
    "    temperature=0,\n",
    "    messages=[\n",
    "        {\n",
    "            \"role\": \"user\",\n",
    "            \"content\": [{\"type\": \"text\", \"text\": prompt}],\n",
    "        }\n",
    "    ],\n",
    ")"
   ]
  },
  {
   "cell_type": "code",
   "execution_count": 75,
   "metadata": {},
   "outputs": [],
   "source": [
    "result = response.choices[0].message.content.replace(\"```json\", \"\").replace(\"```\", \"\").strip()\n",
    "cluster_names_and_descriptions = json.loads(result)"
   ]
  },
  {
   "cell_type": "code",
   "execution_count": 76,
   "metadata": {},
   "outputs": [],
   "source": [
    "with open(\"welcome_survey_cluster_names_and_descriptions_v2.json\", \"w\") as f:\n",
    "    f.write(json.dumps(cluster_names_and_descriptions))"
   ]
  },
  {
   "cell_type": "code",
   "execution_count": 77,
   "metadata": {},
   "outputs": [
    {
     "name": "stdout",
     "output_type": "stream",
     "text": [
      "{'Cluster 0': {'name': 'Profesjonaliści górscy', 'description': 'W tym klastrze znajdują się osoby, które są w wieku 45-54 lat, z wyższym wykształceniem, preferujące psy jako ulubione zwierzęta i lubiące spędzać czas w górach. Większość z nich to mężczyźni.'}, 'Cluster 1': {'name': 'Młodzi profesjonaliści nad wodą', 'description': 'W tym klastrze znajdują się osoby głównie w wieku 35-44 lat, z wyższym wykształceniem, preferujące psy i lubiące spędzać czas nad wodą. Większość z nich to mężczyźni.'}, 'Cluster 2': {'name': 'Średnio wykształceni miłośnicy zwierząt', 'description': 'W tym klastrze znajdują się osoby w różnym wieku, głównie z średnim wykształceniem, które preferują zarówno psy, jak i koty, oraz lubią spędzać czas nad wodą. Większość z nich to mężczyźni.'}, 'Cluster 3': {'name': 'Miłośnicy kotów w górach', 'description': 'W tym klastrze znajdują się osoby w wieku 35-44 lat, z wyższym wykształceniem, które preferują koty i lubią spędzać czas w górach. Większość z nich to mężczyźni.'}, 'Cluster 4': {'name': 'Miłośnicy lasu i różnorodnych zwierząt', 'description': 'W tym klastrze znajdują się osoby w wieku 45-54 lat, z wyższym wykształceniem, które preferują różnorodne zwierzęta i lubią spędzać czas w lesie. Większość z nich to mężczyźni.'}, 'Cluster 5': {'name': 'Starsze pokolenie nad wodą', 'description': 'W tym klastrze znajdują się osoby w wieku 55-64 lat, z wyższym wykształceniem, które preferują psy i lubią spędzać czas nad wodą. Wszyscy członkowie tego klastra to mężczyźni.'}, 'Cluster 6': {'name': 'Miłośnicy psów nad wodą', 'description': 'W tym klastrze znajdują się osoby w wieku 45-54 lat, z wyższym wykształceniem, które preferują psy i lubią spędzać czas nad wodą. Większość z nich to mężczyźni.'}, 'Cluster 7': {'name': 'Młodzi miłośnicy gór', 'description': 'W tym klastrze znajdują się osoby w różnym wieku, głównie z średnim wykształceniem, które preferują różnorodne zwierzęta i lubią spędzać czas w górach. Większość z nich to mężczyźni.'}}\n"
     ]
    }
   ],
   "source": [
    "with open(\"welcome_survey_cluster_names_and_descriptions_v2.json\", \"r\") as f:\n",
    "    print(json.loads(f.read()))"
   ]
  }
 ],
 "metadata": {
  "kernelspec": {
   "display_name": "kurs_ai",
   "language": "python",
   "name": "python3"
  },
  "language_info": {
   "codemirror_mode": {
    "name": "ipython",
    "version": 3
   },
   "file_extension": ".py",
   "mimetype": "text/x-python",
   "name": "python",
   "nbconvert_exporter": "python",
   "pygments_lexer": "ipython3",
   "version": "3.11.10"
  }
 },
 "nbformat": 4,
 "nbformat_minor": 4
}
